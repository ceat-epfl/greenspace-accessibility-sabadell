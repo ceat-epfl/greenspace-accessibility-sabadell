{
 "cells": [
  {
   "cell_type": "markdown",
   "id": "ef8a061c",
   "metadata": {},
   "source": [
    "# NDVI\n",
    "We will use Intake and satsearch to find and download Sentinel-2 data from the\n",
    "earth-search.aws.element84.com STAC API for our spatial extent. We will then compute\n",
    "the Normalized Difference Vegetation Index (NDVI) for the scene."
   ]
  },
  {
   "cell_type": "code",
   "execution_count": null,
   "id": "d1c588c5",
   "metadata": {},
   "outputs": [],
   "source": [
    "import geopandas as gpd\n",
    "import rioxarray as rxr  # noqa: F401\n",
    "import stackstac\n",
    "from pystac_client import Client"
   ]
  },
  {
   "cell_type": "code",
   "execution_count": null,
   "id": "baa02ff7",
   "metadata": {
    "tags": [
     "parameters"
    ]
   },
   "outputs": [],
   "source": [
    "spatial_extent_filepath = \"../data/raw/spatial-extent.gpkg\"\n",
    "orthophoto_metadata_filepath = \"../data/raw/ortofoto-50cm-v7r0-metadades\"\n",
    "stac_url = \"https://earth-search.aws.element84.com/v0\"\n",
    "stac_collection = \"sentinel-s2-l2a-cogs\"\n",
    "stac_epsg = \"4326\"\n",
    "max_cloud_cover = 10\n",
    "dst_filepath = \"../data/processed/ndvi.tif\""
   ]
  },
  {
   "cell_type": "code",
   "execution_count": null,
   "id": "d8107871",
   "metadata": {},
   "outputs": [],
   "source": [
    "spatial_extent_gdf = gpd.read_file(spatial_extent_filepath)\n",
    "orthophoto_metadata_gdf = gpd.read_file(orthophoto_metadata_filepath)"
   ]
  },
  {
   "cell_type": "code",
   "execution_count": null,
   "id": "37039504",
   "metadata": {},
   "outputs": [],
   "source": [
    "# spatial_extent_gdf.to_crs(orthophoto_metadata_gdf.crs).sjoin(orthophoto_metadata_gdf).plot()\n",
    "dates_gdf = orthophoto_metadata_gdf.to_crs(spatial_extent_gdf.crs).sjoin(\n",
    "    spatial_extent_gdf\n",
    ")\n",
    "date_start = dates_gdf[\"DATA_INICI\"].min()\n",
    "date_end = dates_gdf[\"DATA_FI\"].max()\n",
    "# bbox = spatial_extent_gdf.to_crs(stac_crs).total_bounds"
   ]
  },
  {
   "cell_type": "code",
   "execution_count": null,
   "id": "e332dad9",
   "metadata": {},
   "outputs": [],
   "source": [
    "geom = spatial_extent_gdf.to_crs(epsg=stac_epsg)[\"geometry\"].iloc[0]\n",
    "results = Client.open(stac_url).search(\n",
    "    collections=[stac_collection], intersects=geom, datetime=f\"{date_start}/{date_end}\"\n",
    ")"
   ]
  },
  {
   "cell_type": "code",
   "execution_count": null,
   "id": "5cc17231",
   "metadata": {},
   "outputs": [],
   "source": [
    "items = results.get_all_items()\n",
    "# print(len(items))"
   ]
  },
  {
   "cell_type": "code",
   "execution_count": null,
   "id": "c9e16d40",
   "metadata": {},
   "outputs": [],
   "source": [
    "da = stackstac.stack(items, assets=[\"B04\", \"B08\"])\n",
    "ds = da[da[\"eo:cloud_cover\"] < max_cloud_cover].to_dataset(dim=\"band\")\n",
    "# ds = stackstac.stack(items, assets=[\"B04\", \"B08\"]).to_dataset(dim=\"band\")\n",
    "ds = ds.drop([coord for coord in ds.coords if coord not in [\"time\", \"x\", \"y\"]])\n",
    "ds"
   ]
  },
  {
   "cell_type": "code",
   "execution_count": null,
   "id": "83247a1f",
   "metadata": {},
   "outputs": [],
   "source": [
    "ds = ds.rio.write_crs()\n",
    "ds = ds.rio.clip(spatial_extent_gdf.to_crs(ds.rio.crs)[\"geometry\"])\n",
    "ds"
   ]
  },
  {
   "cell_type": "code",
   "execution_count": null,
   "id": "6567325c",
   "metadata": {},
   "outputs": [],
   "source": [
    "# compute ndvi and load it into memory\n",
    "ndvi_da = (ds[\"B08\"] - ds[\"B04\"]) / (ds[\"B08\"] + ds[\"B04\"]).compute()\n",
    "ndvi_da"
   ]
  },
  {
   "cell_type": "code",
   "execution_count": null,
   "id": "940dccea",
   "metadata": {},
   "outputs": [],
   "source": [
    "# get the temporal mean\n",
    "ndvi_da = ndvi_da.mean(dim=\"time\")\n",
    "ndvi_da.plot.imshow(cmap=\"RdYlGn\", vmin=-1, vmax=1)"
   ]
  },
  {
   "cell_type": "code",
   "execution_count": null,
   "id": "48bc0a77",
   "metadata": {},
   "outputs": [],
   "source": [
    "# dump it to a geotiff\n",
    "ndvi_da.rio.to_raster(dst_filepath)"
   ]
  }
 ],
 "metadata": {
  "jupytext": {
   "cell_metadata_filter": "tags,-all"
  },
  "kernelspec": {
   "display_name": "Python (greenspace-accessibility-sabadell)",
   "language": "python",
   "name": "greenspace-accessibility-sabadell"
  },
  "language_info": {
   "codemirror_mode": {
    "name": "ipython",
    "version": 3
   },
   "file_extension": ".py",
   "mimetype": "text/x-python",
   "name": "python",
   "nbconvert_exporter": "python",
   "pygments_lexer": "ipython3",
   "version": "3.10.11"
  }
 },
 "nbformat": 4,
 "nbformat_minor": 5
}
